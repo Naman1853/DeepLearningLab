{
 "cells": [
  {
   "cell_type": "code",
   "execution_count": 69,
   "metadata": {},
   "outputs": [],
   "source": [
    "import numpy as np\n",
    "import random"
   ]
  },
  {
   "cell_type": "code",
   "execution_count": 72,
   "metadata": {},
   "outputs": [
    {
     "data": {
      "text/plain": [
       "['Cloudy',\n",
       " 'Cloudy',\n",
       " 'Rainy',\n",
       " 'Rainy',\n",
       " 'Rainy',\n",
       " 'Cloudy',\n",
       " 'Cloudy',\n",
       " 'Sunny',\n",
       " 'Rainy',\n",
       " 'Rainy']"
      ]
     },
     "execution_count": 72,
     "metadata": {},
     "output_type": "execute_result"
    }
   ],
   "source": [
    "r_states = ['Sunny', 'Cloudy', 'Rainy']\n",
    "\n",
    "def random_seq_operator(r_states, length):\n",
    "    result = []\n",
    "    for i in range(length):\n",
    "        choice = np.random.choice(r_states)\n",
    "        result.append(str(choice))\n",
    "    return result\n",
    "\n",
    "random_seq_operator(r_states, 10)"
   ]
  },
  {
   "cell_type": "code",
   "execution_count": 73,
   "metadata": {},
   "outputs": [],
   "source": [
    "def prob_matrix(r_states, sequence):\n",
    "    result = {r_states:{} for r_states in r_states}\n",
    "    for r_state in r_states:\n",
    "        for i in r_states:\n",
    "            result[r_state][i] = 0\n",
    "        result[r_state][\"count\"] = 0\n",
    "    \n",
    "    for i in range(len(sequence) - 1):\n",
    "        result[sequence[i]][\"count\"] += 1\n",
    "        result[sequence[i]][sequence[i+1]] += 1\n",
    "\n",
    "    for r_state in r_states:\n",
    "        for i in r_states:\n",
    "            result[r_state][i] /= result[r_state][\"count\"]\n",
    "\n",
    "    return result\n",
    "\n",
    "resu = prob_matrix(r_states, random_seq_operator(r_states, 10))\n",
    "\n",
    "for elem in resu.keys():\n",
    "    resu[elem].pop(\"count\")"
   ]
  },
  {
   "cell_type": "code",
   "execution_count": 64,
   "metadata": {},
   "outputs": [
    {
     "data": {
      "text/plain": [
       "{'Sunny': {'Sunny': 0.5, 'Cloudy': 0.5, 'Rainy': 0.0},\n",
       " 'Cloudy': {'Sunny': 0.3333333333333333,\n",
       "  'Cloudy': 0.6666666666666666,\n",
       "  'Rainy': 0.0},\n",
       " 'Rainy': {'Sunny': 0.0, 'Cloudy': 1.0, 'Rainy': 0.0}}"
      ]
     },
     "execution_count": 64,
     "metadata": {},
     "output_type": "execute_result"
    }
   ],
   "source": [
    "resu"
   ]
  },
  {
   "cell_type": "code",
   "execution_count": 74,
   "metadata": {},
   "outputs": [
    {
     "name": "stdout",
     "output_type": "stream",
     "text": [
      "Transition Matrix:\n",
      "    Sunny  Cloudy  Rainy\n",
      "Sunny | 0.00  0.50  0.50\n",
      "Cloudy | 0.50  0.00  0.50\n",
      "Rainy | 0.00  1.00  0.00\n",
      "\n"
     ]
    }
   ],
   "source": [
    "def disp_trans_mat(matrix):\n",
    "    states = list(matrix.keys())\n",
    "    print(\"Transition Matrix:\")\n",
    "    print(\"    \" + \"  \".join(states))\n",
    "    for r_state in r_states:\n",
    "        row = [f\"{matrix[r_state].get(s, 0.0):.2f}\" for s in states]\n",
    "        print(f\"{r_state} | \" + \"  \".join(row))\n",
    "    print()\n",
    "\n",
    "disp_trans_mat(resu)"
   ]
  },
  {
   "cell_type": "code",
   "execution_count": 66,
   "metadata": {},
   "outputs": [],
   "source": [
    "def relu(x):\n",
    "    return np.maximum(0, x)\n",
    "\n",
    "def softmax(x):\n",
    "    exp_x = np.exp(x - np.max(x, axis=1, keepdims=True))\n",
    "    return exp_x / np.sum(exp_x, axis=1, keepdims=True)"
   ]
  },
  {
   "cell_type": "code",
   "execution_count": 67,
   "metadata": {},
   "outputs": [],
   "source": [
    "def one_hot_encoding(states, index):\n",
    "    vec = np.zeros(len(states))\n",
    "    vec[r_states.index(index)] = 1\n",
    "    return vec\n"
   ]
  },
  {
   "cell_type": "code",
   "execution_count": 68,
   "metadata": {},
   "outputs": [],
   "source": [
    "x_train = data[:-1]\n",
    "y_train = data[1:]\n",
    "\n",
    "x_train_enc = np.array([one_hot_encoding(r_states,elem) for elem in x_train])\n",
    "y_train_enc = np.array([one_hot_encoding(r_states,elem) for elem in y_train])"
   ]
  }
 ],
 "metadata": {
  "kernelspec": {
   "display_name": "env",
   "language": "python",
   "name": "python3"
  },
  "language_info": {
   "codemirror_mode": {
    "name": "ipython",
    "version": 3
   },
   "file_extension": ".py",
   "mimetype": "text/x-python",
   "name": "python",
   "nbconvert_exporter": "python",
   "pygments_lexer": "ipython3",
   "version": "3.11.7"
  }
 },
 "nbformat": 4,
 "nbformat_minor": 2
}
