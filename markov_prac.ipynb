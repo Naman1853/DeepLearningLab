{
 "cells": [
  {
   "cell_type": "code",
   "execution_count": 1,
   "metadata": {},
   "outputs": [
    {
     "name": "stdout",
     "output_type": "stream",
     "text": [
      "Transition Matrix:\n",
      "    A  B  C\n",
      "A | 0.10  0.60  0.30\n",
      "B | 0.40  0.50  0.10\n",
      "C | 0.20  0.30  0.50\n",
      "\n",
      "State Transitions:\n",
      "From state A:\n",
      "  to A with probability 0.10\n",
      "  to B with probability 0.60\n",
      "  to C with probability 0.30\n",
      "From state B:\n",
      "  to A with probability 0.40\n",
      "  to B with probability 0.50\n",
      "  to C with probability 0.10\n",
      "From state C:\n",
      "  to A with probability 0.20\n",
      "  to B with probability 0.30\n",
      "  to C with probability 0.50\n",
      "\n"
     ]
    }
   ],
   "source": [
    "transition_matrix = {\n",
    "    'A': {'A': 0.1, 'B': 0.6, 'C': 0.3},\n",
    "    'B': {'A': 0.4, 'B': 0.5, 'C': 0.1},\n",
    "    'C': {'A': 0.2, 'B': 0.3, 'C': 0.5}\n",
    "}\n",
    "\n",
    "def display_transition_matrix(matrix):\n",
    "    states = list(matrix.keys())\n",
    "    print(\"Transition Matrix:\")\n",
    "    print(\"    \" + \"  \".join(states))\n",
    "    for state in states:\n",
    "        row = [f\"{matrix[state].get(s, 0.0):.2f}\" for s in states]\n",
    "        print(f\"{state} | \" + \"  \".join(row))\n",
    "    print()\n",
    "\n",
    "def display_state_transitions(matrix):\n",
    "    print(\"State Transitions:\")\n",
    "    for state, transitions in matrix.items():\n",
    "        print(f\"From state {state}:\")\n",
    "        for next_state, prob in transitions.items():\n",
    "            print(f\"  to {next_state} with probability {prob:.2f}\")\n",
    "    print()\n",
    "\n",
    "display_transition_matrix(transition_matrix)\n",
    "\n",
    "display_state_transitions(transition_matrix)"
   ]
  },
  {
   "cell_type": "code",
   "execution_count": 2,
   "metadata": {},
   "outputs": [],
   "source": [
    "import numpy as np"
   ]
  },
  {
   "cell_type": "code",
   "execution_count": 3,
   "metadata": {},
   "outputs": [],
   "source": [
    "def sigmoid(x):\n",
    "    return 1 / (1 + np.exp(-x))  # Element-wise computation of sigmoid\n",
    "\n",
    "def sigmoid_derivative(x):\n",
    "    return x * (1 - x)  # Derivative of sigmoid: f'(x) = f(x)*(1 - f(x))"
   ]
  },
  {
   "cell_type": "code",
   "execution_count": 4,
   "metadata": {},
   "outputs": [],
   "source": [
    "# -------------------- MLP Class Definition -------------------- #\n",
    "class MLP:\n",
    "    def __init__(self, input_size, hidden_size, output_size):\n",
    "        self.W1 = np.random.randn(input_size, hidden_size) * 0.01\n",
    "        self.b1 = np.zeros((1, hidden_size))\n",
    "        self.W2 = np.random.randn(hidden_size, output_size) * 0.01\n",
    "        self.b2 = np.zeros((1, output_size))\n",
    "\n",
    "    def forward(self, X):\n",
    "        self.Z1 = np.dot(X, self.W1) + self.b1\n",
    "        self.A1 = sigmoid(self.Z1)\n",
    "        self.Z2 = np.dot(self.A1, self.W2) + self.b2\n",
    "        self.A2 = sigmoid(self.Z2)\n",
    "        return self.A2\n",
    "\n",
    "    def backward(self, X, y, output, learning_rate):\n",
    "        error = y - output\n",
    "        dZ2 = error * sigmoid_derivative(output)\n",
    "        dW2 = np.dot(self.A1.T, dZ2)\n",
    "        db2 = np.sum(dZ2, axis=0, keepdims=True)\n",
    "\n",
    "        dA1 = np.dot(dZ2, self.W2.T)\n",
    "        dZ1 = dA1 * sigmoid_derivative(self.A1)\n",
    "        dW1 = np.dot(X.T, dZ1)\n",
    "        db1 = np.sum(dZ1, axis=0, keepdims=True)\n",
    "\n",
    "        self.W1 += learning_rate * dW1\n",
    "        self.b1 += learning_rate * db1\n",
    "        self.W2 += learning_rate * dW2\n",
    "        self.b2 += learning_rate * db2\n",
    "\n",
    "    def train(self, X, y, learning_rate=0.1, epochs=10000):\n",
    "        for epoch in range(epochs):\n",
    "            output = self.forward(X)\n",
    "            self.backward(X, y, output, learning_rate)\n",
    "\n",
    "            if epoch % 1000 == 0:\n",
    "                loss = np.mean(np.square(y - output))\n",
    "                print(f\"Epoch {epoch}, Loss: {loss}\")\n",
    "\n",
    "    def predict(self, X):\n",
    "        return self.forward(X)"
   ]
  },
  {
   "cell_type": "code",
   "execution_count": 5,
   "metadata": {},
   "outputs": [],
   "source": [
    "transition_matrix = {\n",
    "    'A': {'A': 0.1, 'B': 0.6, 'C': 0.3},\n",
    "    'B': {'A': 0.4, 'B': 0.5, 'C': 0.1},\n",
    "    'C': {'A': 0.2, 'B': 0.3, 'C': 0.5}\n",
    "}\n",
    "\n",
    "states = ['A', 'B', 'C']\n",
    "state_to_vector = {}\n",
    "vector_to_state = {}\n",
    "identity = np.eye(len(states))\n",
    "\n",
    "for i, state in enumerate(states):\n",
    "    state_to_vector[state] = identity[i]\n",
    "    vector_to_state[i] = state "
   ]
  },
  {
   "cell_type": "code",
   "execution_count": 6,
   "metadata": {},
   "outputs": [],
   "source": [
    "def generate_sequence(start_state, length):\n",
    "    sequence = [start_state]\n",
    "    current_state = start_state\n",
    "    for _ in range(length - 1):\n",
    "        transitions = transition_matrix[current_state]\n",
    "        next_states = list(transitions.keys())\n",
    "        probabilities = list(transitions.values())\n",
    "        next_state = np.random.choice(next_states, p=probabilities)\n",
    "        sequence.append(next_state)\n",
    "        current_state = next_state\n",
    "    return sequence"
   ]
  },
  {
   "cell_type": "code",
   "execution_count": 7,
   "metadata": {},
   "outputs": [],
   "source": [
    "training_inputs = []\n",
    "training_outputs = []\n",
    "\n",
    "num_sequences = 1000\n",
    "sequence_length = 10\n",
    "\n",
    "for _ in range(num_sequences):\n",
    "    start_state = np.random.choice(states)\n",
    "    seq = generate_sequence(start_state, sequence_length)\n",
    "    for i in range(len(seq) - 1):\n",
    "        input_state = seq[i] \n",
    "        next_state = seq[i + 1]\n",
    "        training_inputs.append(state_to_vector[input_state])\n",
    "        training_outputs.append(state_to_vector[next_state])"
   ]
  },
  {
   "cell_type": "code",
   "execution_count": 8,
   "metadata": {},
   "outputs": [
    {
     "name": "stdout",
     "output_type": "stream",
     "text": [
      "Epoch 0, Loss: 0.24906331488950625\n",
      "Epoch 1000, Loss: 0.19755247530737124\n",
      "Epoch 2000, Loss: 0.19312759177730218\n",
      "Epoch 3000, Loss: 0.1930569330940943\n",
      "Epoch 4000, Loss: 0.19305443920744625\n",
      "Epoch 5000, Loss: 0.1930540207449535\n",
      "Epoch 6000, Loss: 0.193053942238523\n",
      "Epoch 7000, Loss: 0.19305392742787472\n",
      "Epoch 8000, Loss: 0.19305392462984128\n",
      "Epoch 9000, Loss: 0.19305392410091315\n"
     ]
    }
   ],
   "source": [
    "\n",
    "X_train = np.array(training_inputs)\n",
    "y_train = np.array(training_outputs)\n",
    "\n",
    "mlp = MLP(input_size=len(states), hidden_size=5, output_size=len(states))\n",
    "\n",
    "mlp.train(X_train, y_train, learning_rate=0.0001, epochs=10000)\n"
   ]
  },
  {
   "cell_type": "code",
   "execution_count": 9,
   "metadata": {},
   "outputs": [
    {
     "name": "stdout",
     "output_type": "stream",
     "text": [
      "\n",
      "Predicted transition probabilities from each state:\n",
      "From state A:\n",
      "  To A: 0.100\n",
      "  To B: 0.596\n",
      "  To C: 0.304\n",
      "From state B:\n",
      "  To A: 0.390\n",
      "  To B: 0.512\n",
      "  To C: 0.098\n",
      "From state C:\n",
      "  To A: 0.200\n",
      "  To B: 0.302\n",
      "  To C: 0.499\n"
     ]
    }
   ],
   "source": [
    "print(\"\\nPredicted transition probabilities from each state:\")\n",
    "for state in states:\n",
    "    input_vector = state_to_vector[state].reshape(1, -1)\n",
    "    predicted_output = mlp.predict(input_vector)\n",
    "    print(f\"From state {state}:\")\n",
    "    for i, next_state in vector_to_state.items():\n",
    "        print(f\"  To {next_state}: {predicted_output[0][i]:.3f}\")"
   ]
  }
 ],
 "metadata": {
  "kernelspec": {
   "display_name": "env",
   "language": "python",
   "name": "python3"
  },
  "language_info": {
   "codemirror_mode": {
    "name": "ipython",
    "version": 3
   },
   "file_extension": ".py",
   "mimetype": "text/x-python",
   "name": "python",
   "nbconvert_exporter": "python",
   "pygments_lexer": "ipython3",
   "version": "3.11.7"
  }
 },
 "nbformat": 4,
 "nbformat_minor": 2
}
